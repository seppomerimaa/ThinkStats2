{
 "cells": [
  {
   "cell_type": "code",
   "execution_count": 22,
   "metadata": {
    "collapsed": true
   },
   "outputs": [],
   "source": [
    "%matplotlib inline\n",
    "import thinkstats2\n",
    "import thinkplot\n",
    "import scatter\n",
    "import matplotlib.pyplot as plt\n",
    "import math\n",
    "import random\n",
    "import pandas\n",
    "import nsfg\n",
    "import numpy as np"
   ]
  },
  {
   "cell_type": "code",
   "execution_count": 10,
   "metadata": {
    "collapsed": false
   },
   "outputs": [
    {
     "data": {
      "text/plain": [
       "Index([         u'caseid',        u'pregordr',       u'howpreg_n',\n",
       "             u'howpreg_p',        u'moscurrp',        u'nowprgdk',\n",
       "              u'pregend1',        u'pregend2',        u'nbrnaliv',\n",
       "              u'multbrth',\n",
       "       ...\n",
       "            u'laborfor_i',      u'religion_i',         u'metro_i',\n",
       "               u'basewgt', u'adj_mod_basewgt',        u'finalwgt',\n",
       "                u'secu_p',            u'sest',         u'cmintvw',\n",
       "           u'totalwgt_lb'],\n",
       "      dtype='object', length=244)"
      ]
     },
     "execution_count": 10,
     "metadata": {},
     "output_type": "execute_result"
    }
   ],
   "source": [
    "preg = nsfg.ReadFemPreg()\n",
    "preg.columns"
   ]
  },
  {
   "cell_type": "code",
   "execution_count": 11,
   "metadata": {
    "collapsed": false
   },
   "outputs": [],
   "source": [
    "df = preg.dropna(subset=['agepreg', 'totalwgt_lb'])\n",
    "df = df[['agepreg', 'totalwgt_lb']]"
   ]
  },
  {
   "cell_type": "code",
   "execution_count": 12,
   "metadata": {
    "collapsed": false
   },
   "outputs": [
    {
     "name": "stdout",
     "output_type": "stream",
     "text": [
      "pearson 0.0688339703541\n",
      "spearman 0.0946100410966\n"
     ]
    }
   ],
   "source": [
    "print \"pearson\", thinkstats2.Corr(df.agepreg, df.totalwgt_lb)\n",
    "print \"spearman\", thinkstats2.SpearmanCorr(df.agepreg, df.totalwgt_lb)"
   ]
  },
  {
   "cell_type": "code",
   "execution_count": 20,
   "metadata": {
    "collapsed": false
   },
   "outputs": [
    {
     "name": "stdout",
     "output_type": "stream",
     "text": [
      "Fraction between 15yo and 40yo:  0.98904624917\n"
     ]
    }
   ],
   "source": [
    "age_cdf = thinkstats2.Cdf(df.agepreg)\n",
    "wgt_cdf = thinkstats2.Cdf(df.totalwgt_lb)\n",
    "print 'Fraction between 15yo and 40yo: ', age_cdf[40] -age_cdf[15]"
   ]
  },
  {
   "cell_type": "code",
   "execution_count": 28,
   "metadata": {
    "collapsed": false
   },
   "outputs": [],
   "source": [
    "bins = np.arange(15, 40, 1)\n",
    "indices = np.digitize(df.agepreg, bins)\n",
    "groups = df.groupby(indices)\n",
    "ages = [group.agepreg.mean() for i, group in groups][1:-1]\n",
    "cdfs = [thinkstats2.Cdf(group.totalwgt_lb) for i, group in groups][1:-1]"
   ]
  },
  {
   "cell_type": "code",
   "execution_count": 31,
   "metadata": {
    "collapsed": false
   },
   "outputs": [
    {
     "data": {
      "image/png": "[encoded data removed]",
      "text/plain": [
       "<matplotlib.figure.Figure at 0x11a288310>"
      ]
     },
     "metadata": {},
     "output_type": "display_data"
    },
    {
     "data": {
      "text/plain": [
       "<matplotlib.figure.Figure at 0x11dd95610>"
      ]
     },
     "metadata": {},
     "output_type": "display_data"
    }
   ],
   "source": [
    "thinkplot.PrePlot(3)\n",
    "for percent in [75, 50, 25]:\n",
    "    weights = [cdf.Percentile(percent) for cdf in cdfs]\n",
    "    label = '%dth' % percent\n",
    "    thinkplot.Plot(ages, weights, label=label)\n",
    "thinkplot.show(xlabel='age', ylabel='weight')"
   ]
  },
  {
   "cell_type": "markdown",
   "metadata": {},
   "source": [
    "There's a weak positive correlation between age and birth weight."
   ]
  },
  {
   "cell_type": "code",
   "execution_count": null,
   "metadata": {
    "collapsed": true
   },
   "outputs": [],
   "source": []
  }
 ],
 "metadata": {
  "kernelspec": {
   "display_name": "Python 2",
   "language": "python",
   "name": "python2"
  },
  "language_info": {
   "codemirror_mode": {
    "name": "ipython",
    "version": 2
   },
   "file_extension": ".py",
   "mimetype": "text/x-python",
   "name": "python",
   "nbconvert_exporter": "python",
   "pygments_lexer": "ipython2",
   "version": "2.7.10"
  }
 },
 "nbformat": 4,
 "nbformat_minor": 0
}
