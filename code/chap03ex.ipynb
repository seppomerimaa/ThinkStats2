{
 "cells": [
  {
   "cell_type": "markdown",
   "metadata": {},
   "source": [
    "Exercise from Think Stats, 2nd Edition (thinkstats2.com)<br>\n",
    "Allen Downey\n",
    "\n",
    "Read the female respondent file."
   ]
  },
  {
   "cell_type": "code",
   "execution_count": 2,
   "metadata": {
    "collapsed": false
   },
   "outputs": [],
   "source": [
    "%matplotlib inline\n",
    "\n",
    "import chap01soln\n",
    "resp = chap01soln.ReadFemResp()"
   ]
  },
  {
   "cell_type": "markdown",
   "metadata": {},
   "source": [
    "Make a PMF of <tt>numkdhh</tt>, the number of children under 18 in the respondent's household."
   ]
  },
  {
   "cell_type": "code",
   "execution_count": 15,
   "metadata": {
    "collapsed": false
   },
   "outputs": [],
   "source": [
    "import thinkstats2\n",
    "import thinkplot\n",
    "\n",
    "resp.numkdhh.head(5)\n",
    "pmf = thinkstats2.Pmf(resp.numkdhh, label='num children')"
   ]
  },
  {
   "cell_type": "markdown",
   "metadata": {},
   "source": [
    "Display the PMF."
   ]
  },
  {
   "cell_type": "code",
   "execution_count": 16,
   "metadata": {
    "collapsed": false
   },
   "outputs": [
    {
     "data": {
      "image/png": "[encoded data removed]",
      "text/plain": [
       "<matplotlib.figure.Figure at 0x10c38a350>"
      ]
     },
     "metadata": {},
     "output_type": "display_data"
    },
    {
     "data": {
      "text/plain": [
       "<matplotlib.figure.Figure at 0x1070658d0>"
      ]
     },
     "metadata": {},
     "output_type": "display_data"
    }
   ],
   "source": [
    "thinkplot.PrePlot(1)\n",
    "thinkplot.hist(pmf)\n",
    "thinkplot.show(xlabel='number of children', ylabel='probability')"
   ]
  },
  {
   "cell_type": "markdown",
   "metadata": {},
   "source": [
    "Define <tt>BiasPmf</tt>."
   ]
  },
  {
   "cell_type": "code",
   "execution_count": 17,
   "metadata": {
    "collapsed": false
   },
   "outputs": [],
   "source": [
    "def BiasPmf(pmf, label=''):\n",
    "    \"\"\"Returns the Pmf with oversampling proportional to value.\n",
    "\n",
    "    If pmf is the distribution of true values, the result is the\n",
    "    distribution that would be seen if values are oversampled in\n",
    "    proportion to their values; for example, if you ask students\n",
    "    how big their classes are, large classes are oversampled in\n",
    "    proportion to their size.\n",
    "\n",
    "    Args:\n",
    "      pmf: Pmf object.\n",
    "      label: string label for the new Pmf.\n",
    "\n",
    "     Returns:\n",
    "       Pmf object\n",
    "    \"\"\"\n",
    "    new_pmf = pmf.Copy(label=label)\n",
    "\n",
    "    for x, p in pmf.Items():\n",
    "        new_pmf.Mult(x, x)\n",
    "        \n",
    "    new_pmf.Normalize()\n",
    "    return new_pmf"
   ]
  },
  {
   "cell_type": "markdown",
   "metadata": {},
   "source": [
    "Make a the biased Pmf of children in the household, as observed if you surveyed the children instead of the respondents."
   ]
  },
  {
   "cell_type": "code",
   "execution_count": 18,
   "metadata": {
    "collapsed": false
   },
   "outputs": [],
   "source": [
    "biased_pmf = BiasPmf(pmf, 'biased num children')"
   ]
  },
  {
   "cell_type": "markdown",
   "metadata": {},
   "source": [
    "Display the actual Pmf and the biased Pmf on the same axes."
   ]
  },
  {
   "cell_type": "code",
   "execution_count": 20,
   "metadata": {
    "collapsed": false
   },
   "outputs": [
    {
     "data": {
      "image/png": "[encoded data removed]",
      "text/plain": [
       "<matplotlib.figure.Figure at 0x10d2d4350>"
      ]
     },
     "metadata": {},
     "output_type": "display_data"
    },
    {
     "data": {
      "text/plain": [
       "<matplotlib.figure.Figure at 0x10c98ab50>"
      ]
     },
     "metadata": {},
     "output_type": "display_data"
    }
   ],
   "source": [
    "thinkplot.PrePlot(2, cols=2)\n",
    "thinkplot.pmfs([pmf, biased_pmf])\n",
    "thinkplot.show(xlabel='number of children', ylabel='probability')"
   ]
  },
  {
   "cell_type": "markdown",
   "metadata": {},
   "source": [
    "Compute the means of the two Pmfs."
   ]
  },
  {
   "cell_type": "code",
   "execution_count": 23,
   "metadata": {
    "collapsed": false
   },
   "outputs": [
    {
     "name": "stdout",
     "output_type": "stream",
     "text": [
      "unbiased mean 1.02420515504\n",
      "biased mean 2.40367910066\n"
     ]
    }
   ],
   "source": [
    "print \"unbiased mean\", pmf.Mean()\n",
    "print \"biased mean\", biased_pmf.Mean()"
   ]
  },
  {
   "cell_type": "markdown",
   "metadata": {},
   "source": [
    "## Ex 3.2\n",
    "\n",
    "Computing the mean and variance of a PMF."
   ]
  },
  {
   "cell_type": "code",
   "execution_count": 24,
   "metadata": {
    "collapsed": false
   },
   "outputs": [],
   "source": [
    "def PmfMean(pmf):\n",
    "    \"\"\"Computes the mean of a PMF\n",
    "    Args:\n",
    "        pmf: a Pmf object.\n",
    "    Returns:\n",
    "        floating point mean of the pmf\n",
    "    \"\"\"\n",
    "    total = 0.0\n",
    "    for val, prob in pmf.Items():\n",
    "        total += val * prob\n",
    "    return total"
   ]
  },
  {
   "cell_type": "code",
   "execution_count": 26,
   "metadata": {
    "collapsed": false
   },
   "outputs": [
    {
     "name": "stdout",
     "output_type": "stream",
     "text": [
      "DIY unbiased mean 1.02420515504\n",
      "DIY biased mean 2.40367910066\n"
     ]
    }
   ],
   "source": [
    "print \"DIY unbiased mean\", PmfMean(pmf)\n",
    "print \"DIY biased mean\", PmfMean(biased_pmf)"
   ]
  },
  {
   "cell_type": "code",
   "execution_count": 27,
   "metadata": {
    "collapsed": true
   },
   "outputs": [],
   "source": [
    "import math\n",
    "\n",
    "def PmfVariance(pmf):\n",
    "    \"\"\"Computes the variance of a PMF\n",
    "    Args:\n",
    "        pmf: a Pmf object\n",
    "    Returns:\n",
    "        floating point variance of the PMF\n",
    "    \"\"\"\n",
    "    mean = PmfMean(pmf)\n",
    "    total = 0.0\n",
    "    for val, prob in pmf.Items():\n",
    "        diff = mean - val\n",
    "        total += prob * math.pow(diff, 2)\n",
    "    return total"
   ]
  },
  {
   "cell_type": "code",
   "execution_count": 31,
   "metadata": {
    "collapsed": false
   },
   "outputs": [
    {
     "name": "stdout",
     "output_type": "stream",
     "text": [
      "unbiased variance 1.41286432635\n",
      "biased varaince 1.17327210551\n",
      "DIY unbiased variance 1.41286432635\n",
      "DIY biased variance 1.17327210551\n"
     ]
    }
   ],
   "source": [
    "print \"unbiased variance\", pmf.Var()\n",
    "print \"biased varaince\", biased_pmf.Var()\n",
    "print \"DIY unbiased variance\", PmfVariance(pmf)\n",
    "print \"DIY biased variance\", PmfVariance(biased_pmf)"
   ]
  },
  {
   "cell_type": "markdown",
   "metadata": {},
   "source": [
    "## Ex 3.3\n",
    "\n",
    "Pairwise comparison of pregnancy lengths. Ie, for an individual woman with 2+ pregnancies, what was the average difference between the length of the first pregnancy and the others?"
   ]
  },
  {
   "cell_type": "code",
   "execution_count": 81,
   "metadata": {
    "collapsed": false
   },
   "outputs": [],
   "source": [
    "import nsfg\n",
    "\n",
    "preg = nsfg.ReadFemPreg()"
   ]
  },
  {
   "cell_type": "code",
   "execution_count": 85,
   "metadata": {
    "collapsed": false
   },
   "outputs": [
    {
     "name": "stdout",
     "output_type": "stream",
     "text": [
      "average difference in length between first pregnancy and others:  0.168286959437\n"
     ]
    }
   ],
   "source": [
    "live = preg[preg.outcome == 1]\n",
    "live = live[live.prglngth >= 37]\n",
    "preg_map = nsfg.MakePregMap(live)\n",
    "\n",
    "diffs = []\n",
    "for caseid in preg_map:\n",
    "    indices = preg_map[caseid]\n",
    "    if len(indices) >= 2:\n",
    "        first = live.loc[(live.caseid == caseid) & (live.pregordr == 1), 'prglngth']\n",
    "        others = live.loc[(live.caseid == caseid) & (live.pregordr != 1), 'prglngth']\n",
    "        if len(first) > 0:\n",
    "            #print caseid, len(others)\n",
    "            #print \"first\", first, type(first), type(first)\n",
    "            for o in others:\n",
    "                #print \"o\", o, type(o)\n",
    "                #print \"diff is\", first - o\n",
    "                diffs.append(first.iloc[0] - o)\n",
    "diff_mean = thinkstats2.Mean(diffs)\n",
    "print \"average difference in length between first pregnancy and others: \", diff_mean"
   ]
  },
  {
   "cell_type": "code",
   "execution_count": null,
   "metadata": {
    "collapsed": true
   },
   "outputs": [],
   "source": []
  }
 ],
 "metadata": {
  "kernelspec": {
   "display_name": "Python 2",
   "language": "python",
   "name": "python2"
  },
  "language_info": {
   "codemirror_mode": {
    "name": "ipython",
    "version": 2
   },
   "file_extension": ".py",
   "mimetype": "text/x-python",
   "name": "python",
   "nbconvert_exporter": "python",
   "pygments_lexer": "ipython2",
   "version": "2.7.10"
  }
 },
 "nbformat": 4,
 "nbformat_minor": 0
}
